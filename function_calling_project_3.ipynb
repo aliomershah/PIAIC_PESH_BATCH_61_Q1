{
  "nbformat": 4,
  "nbformat_minor": 0,
  "metadata": {
    "colab": {
      "provenance": [],
      "authorship_tag": "ABX9TyPs41b0yxpC6POD5fgkH70c",
      "include_colab_link": true
    },
    "kernelspec": {
      "name": "python3",
      "display_name": "Python 3"
    },
    "language_info": {
      "name": "python"
    }
  },
  "cells": [
    {
      "cell_type": "markdown",
      "metadata": {
        "id": "view-in-github",
        "colab_type": "text"
      },
      "source": [
        "<a href=\"https://colab.research.google.com/github/aliomershah/PIAIC_PESH_BATCH_61_Q1/blob/master/function_calling_project_3.ipynb\" target=\"_parent\"><img src=\"https://colab.research.google.com/assets/colab-badge.svg\" alt=\"Open In Colab\"/></a>"
      ]
    },
    {
      "cell_type": "markdown",
      "source": [
        "### ali umar piaic batch 64 quater 2 peshawar  function calling"
      ],
      "metadata": {
        "id": "eY9s21OrnpTv"
      }
    },
    {
      "cell_type": "code",
      "source": [
        "!pip install langchain-google-genai langchain"
      ],
      "metadata": {
        "colab": {
          "base_uri": "https://localhost:8080/"
        },
        "id": "XxvAoarvjkoz",
        "outputId": "8667a421-4135-4a55-fff6-579891959860"
      },
      "execution_count": null,
      "outputs": [
        {
          "output_type": "stream",
          "name": "stdout",
          "text": [
            "Requirement already satisfied: langchain-google-genai in /usr/local/lib/python3.10/dist-packages (2.0.8)\n",
            "Requirement already satisfied: langchain in /usr/local/lib/python3.10/dist-packages (0.3.14)\n",
            "Requirement already satisfied: filetype<2.0.0,>=1.2.0 in /usr/local/lib/python3.10/dist-packages (from langchain-google-genai) (1.2.0)\n",
            "Requirement already satisfied: google-generativeai<0.9.0,>=0.8.0 in /usr/local/lib/python3.10/dist-packages (from langchain-google-genai) (0.8.3)\n",
            "Requirement already satisfied: langchain-core<0.4.0,>=0.3.27 in /usr/local/lib/python3.10/dist-packages (from langchain-google-genai) (0.3.29)\n",
            "Requirement already satisfied: pydantic<3,>=2 in /usr/local/lib/python3.10/dist-packages (from langchain-google-genai) (2.10.4)\n",
            "Requirement already satisfied: PyYAML>=5.3 in /usr/local/lib/python3.10/dist-packages (from langchain) (6.0.2)\n",
            "Requirement already satisfied: SQLAlchemy<3,>=1.4 in /usr/local/lib/python3.10/dist-packages (from langchain) (2.0.36)\n",
            "Requirement already satisfied: aiohttp<4.0.0,>=3.8.3 in /usr/local/lib/python3.10/dist-packages (from langchain) (3.11.11)\n",
            "Requirement already satisfied: async-timeout<5.0.0,>=4.0.0 in /usr/local/lib/python3.10/dist-packages (from langchain) (4.0.3)\n",
            "Requirement already satisfied: langchain-text-splitters<0.4.0,>=0.3.3 in /usr/local/lib/python3.10/dist-packages (from langchain) (0.3.5)\n",
            "Requirement already satisfied: langsmith<0.3,>=0.1.17 in /usr/local/lib/python3.10/dist-packages (from langchain) (0.2.10)\n",
            "Requirement already satisfied: numpy<2,>=1.22.4 in /usr/local/lib/python3.10/dist-packages (from langchain) (1.26.4)\n",
            "Requirement already satisfied: requests<3,>=2 in /usr/local/lib/python3.10/dist-packages (from langchain) (2.32.3)\n",
            "Requirement already satisfied: tenacity!=8.4.0,<10,>=8.1.0 in /usr/local/lib/python3.10/dist-packages (from langchain) (9.0.0)\n",
            "Requirement already satisfied: aiohappyeyeballs>=2.3.0 in /usr/local/lib/python3.10/dist-packages (from aiohttp<4.0.0,>=3.8.3->langchain) (2.4.4)\n",
            "Requirement already satisfied: aiosignal>=1.1.2 in /usr/local/lib/python3.10/dist-packages (from aiohttp<4.0.0,>=3.8.3->langchain) (1.3.2)\n",
            "Requirement already satisfied: attrs>=17.3.0 in /usr/local/lib/python3.10/dist-packages (from aiohttp<4.0.0,>=3.8.3->langchain) (24.3.0)\n",
            "Requirement already satisfied: frozenlist>=1.1.1 in /usr/local/lib/python3.10/dist-packages (from aiohttp<4.0.0,>=3.8.3->langchain) (1.5.0)\n",
            "Requirement already satisfied: multidict<7.0,>=4.5 in /usr/local/lib/python3.10/dist-packages (from aiohttp<4.0.0,>=3.8.3->langchain) (6.1.0)\n",
            "Requirement already satisfied: propcache>=0.2.0 in /usr/local/lib/python3.10/dist-packages (from aiohttp<4.0.0,>=3.8.3->langchain) (0.2.1)\n",
            "Requirement already satisfied: yarl<2.0,>=1.17.0 in /usr/local/lib/python3.10/dist-packages (from aiohttp<4.0.0,>=3.8.3->langchain) (1.18.3)\n",
            "Requirement already satisfied: google-ai-generativelanguage==0.6.10 in /usr/local/lib/python3.10/dist-packages (from google-generativeai<0.9.0,>=0.8.0->langchain-google-genai) (0.6.10)\n",
            "Requirement already satisfied: google-api-core in /usr/local/lib/python3.10/dist-packages (from google-generativeai<0.9.0,>=0.8.0->langchain-google-genai) (2.19.2)\n",
            "Requirement already satisfied: google-api-python-client in /usr/local/lib/python3.10/dist-packages (from google-generativeai<0.9.0,>=0.8.0->langchain-google-genai) (2.155.0)\n",
            "Requirement already satisfied: google-auth>=2.15.0 in /usr/local/lib/python3.10/dist-packages (from google-generativeai<0.9.0,>=0.8.0->langchain-google-genai) (2.27.0)\n",
            "Requirement already satisfied: protobuf in /usr/local/lib/python3.10/dist-packages (from google-generativeai<0.9.0,>=0.8.0->langchain-google-genai) (4.25.5)\n",
            "Requirement already satisfied: tqdm in /usr/local/lib/python3.10/dist-packages (from google-generativeai<0.9.0,>=0.8.0->langchain-google-genai) (4.67.1)\n",
            "Requirement already satisfied: typing-extensions in /usr/local/lib/python3.10/dist-packages (from google-generativeai<0.9.0,>=0.8.0->langchain-google-genai) (4.12.2)\n",
            "Requirement already satisfied: proto-plus<2.0.0dev,>=1.22.3 in /usr/local/lib/python3.10/dist-packages (from google-ai-generativelanguage==0.6.10->google-generativeai<0.9.0,>=0.8.0->langchain-google-genai) (1.25.0)\n",
            "Requirement already satisfied: jsonpatch<2.0,>=1.33 in /usr/local/lib/python3.10/dist-packages (from langchain-core<0.4.0,>=0.3.27->langchain-google-genai) (1.33)\n",
            "Requirement already satisfied: packaging<25,>=23.2 in /usr/local/lib/python3.10/dist-packages (from langchain-core<0.4.0,>=0.3.27->langchain-google-genai) (24.2)\n",
            "Requirement already satisfied: httpx<1,>=0.23.0 in /usr/local/lib/python3.10/dist-packages (from langsmith<0.3,>=0.1.17->langchain) (0.28.1)\n",
            "Requirement already satisfied: orjson<4.0.0,>=3.9.14 in /usr/local/lib/python3.10/dist-packages (from langsmith<0.3,>=0.1.17->langchain) (3.10.13)\n",
            "Requirement already satisfied: requests-toolbelt<2.0.0,>=1.0.0 in /usr/local/lib/python3.10/dist-packages (from langsmith<0.3,>=0.1.17->langchain) (1.0.0)\n",
            "Requirement already satisfied: annotated-types>=0.6.0 in /usr/local/lib/python3.10/dist-packages (from pydantic<3,>=2->langchain-google-genai) (0.7.0)\n",
            "Requirement already satisfied: pydantic-core==2.27.2 in /usr/local/lib/python3.10/dist-packages (from pydantic<3,>=2->langchain-google-genai) (2.27.2)\n",
            "Requirement already satisfied: charset-normalizer<4,>=2 in /usr/local/lib/python3.10/dist-packages (from requests<3,>=2->langchain) (3.4.1)\n",
            "Requirement already satisfied: idna<4,>=2.5 in /usr/local/lib/python3.10/dist-packages (from requests<3,>=2->langchain) (3.10)\n",
            "Requirement already satisfied: urllib3<3,>=1.21.1 in /usr/local/lib/python3.10/dist-packages (from requests<3,>=2->langchain) (2.3.0)\n",
            "Requirement already satisfied: certifi>=2017.4.17 in /usr/local/lib/python3.10/dist-packages (from requests<3,>=2->langchain) (2024.12.14)\n",
            "Requirement already satisfied: greenlet!=0.4.17 in /usr/local/lib/python3.10/dist-packages (from SQLAlchemy<3,>=1.4->langchain) (3.1.1)\n",
            "Requirement already satisfied: googleapis-common-protos<2.0.dev0,>=1.56.2 in /usr/local/lib/python3.10/dist-packages (from google-api-core->google-generativeai<0.9.0,>=0.8.0->langchain-google-genai) (1.66.0)\n",
            "Requirement already satisfied: cachetools<6.0,>=2.0.0 in /usr/local/lib/python3.10/dist-packages (from google-auth>=2.15.0->google-generativeai<0.9.0,>=0.8.0->langchain-google-genai) (5.5.0)\n",
            "Requirement already satisfied: pyasn1-modules>=0.2.1 in /usr/local/lib/python3.10/dist-packages (from google-auth>=2.15.0->google-generativeai<0.9.0,>=0.8.0->langchain-google-genai) (0.4.1)\n",
            "Requirement already satisfied: rsa<5,>=3.1.4 in /usr/local/lib/python3.10/dist-packages (from google-auth>=2.15.0->google-generativeai<0.9.0,>=0.8.0->langchain-google-genai) (4.9)\n",
            "Requirement already satisfied: anyio in /usr/local/lib/python3.10/dist-packages (from httpx<1,>=0.23.0->langsmith<0.3,>=0.1.17->langchain) (3.7.1)\n",
            "Requirement already satisfied: httpcore==1.* in /usr/local/lib/python3.10/dist-packages (from httpx<1,>=0.23.0->langsmith<0.3,>=0.1.17->langchain) (1.0.7)\n",
            "Requirement already satisfied: h11<0.15,>=0.13 in /usr/local/lib/python3.10/dist-packages (from httpcore==1.*->httpx<1,>=0.23.0->langsmith<0.3,>=0.1.17->langchain) (0.14.0)\n",
            "Requirement already satisfied: jsonpointer>=1.9 in /usr/local/lib/python3.10/dist-packages (from jsonpatch<2.0,>=1.33->langchain-core<0.4.0,>=0.3.27->langchain-google-genai) (3.0.0)\n",
            "Requirement already satisfied: httplib2<1.dev0,>=0.19.0 in /usr/local/lib/python3.10/dist-packages (from google-api-python-client->google-generativeai<0.9.0,>=0.8.0->langchain-google-genai) (0.22.0)\n",
            "Requirement already satisfied: google-auth-httplib2<1.0.0,>=0.2.0 in /usr/local/lib/python3.10/dist-packages (from google-api-python-client->google-generativeai<0.9.0,>=0.8.0->langchain-google-genai) (0.2.0)\n",
            "Requirement already satisfied: uritemplate<5,>=3.0.1 in /usr/local/lib/python3.10/dist-packages (from google-api-python-client->google-generativeai<0.9.0,>=0.8.0->langchain-google-genai) (4.1.1)\n",
            "Requirement already satisfied: grpcio<2.0dev,>=1.33.2 in /usr/local/lib/python3.10/dist-packages (from google-api-core[grpc]!=2.0.*,!=2.1.*,!=2.10.*,!=2.2.*,!=2.3.*,!=2.4.*,!=2.5.*,!=2.6.*,!=2.7.*,!=2.8.*,!=2.9.*,<3.0.0dev,>=1.34.1->google-ai-generativelanguage==0.6.10->google-generativeai<0.9.0,>=0.8.0->langchain-google-genai) (1.69.0)\n",
            "Requirement already satisfied: grpcio-status<2.0.dev0,>=1.33.2 in /usr/local/lib/python3.10/dist-packages (from google-api-core[grpc]!=2.0.*,!=2.1.*,!=2.10.*,!=2.2.*,!=2.3.*,!=2.4.*,!=2.5.*,!=2.6.*,!=2.7.*,!=2.8.*,!=2.9.*,<3.0.0dev,>=1.34.1->google-ai-generativelanguage==0.6.10->google-generativeai<0.9.0,>=0.8.0->langchain-google-genai) (1.62.3)\n",
            "Requirement already satisfied: pyparsing!=3.0.0,!=3.0.1,!=3.0.2,!=3.0.3,<4,>=2.4.2 in /usr/local/lib/python3.10/dist-packages (from httplib2<1.dev0,>=0.19.0->google-api-python-client->google-generativeai<0.9.0,>=0.8.0->langchain-google-genai) (3.2.1)\n",
            "Requirement already satisfied: pyasn1<0.7.0,>=0.4.6 in /usr/local/lib/python3.10/dist-packages (from pyasn1-modules>=0.2.1->google-auth>=2.15.0->google-generativeai<0.9.0,>=0.8.0->langchain-google-genai) (0.6.1)\n",
            "Requirement already satisfied: sniffio>=1.1 in /usr/local/lib/python3.10/dist-packages (from anyio->httpx<1,>=0.23.0->langsmith<0.3,>=0.1.17->langchain) (1.3.1)\n",
            "Requirement already satisfied: exceptiongroup in /usr/local/lib/python3.10/dist-packages (from anyio->httpx<1,>=0.23.0->langsmith<0.3,>=0.1.17->langchain) (1.2.2)\n"
          ]
        }
      ]
    },
    {
      "cell_type": "markdown",
      "source": [
        "## **multiplication**\n"
      ],
      "metadata": {
        "id": "xRWLYYAv3u7h"
      }
    },
    {
      "cell_type": "code",
      "source": [
        "import os\n",
        "from google.colab import userdata\n",
        "os.environ['GOOGLE_API_KEY'] = userdata.get(\"GOOGLE_API_KEY\")"
      ],
      "metadata": {
        "id": "Kkh29MSvcqIQ"
      },
      "execution_count": null,
      "outputs": []
    },
    {
      "source": [
        "from langchain_google_genai import ChatGoogleGenerativeAI\n",
        "\n",
        "llm = ChatGoogleGenerativeAI( # ChatGoogleGenerativeAI should be capitalized\n",
        "    model=\"gemini-2.0-flash-exp\",\n",
        "    GOOGLE_API_KEY=os.environ['GOOGLE_API_KEY'],\n",
        "    temperature =0,\n",
        "    max_tokens = None,\n",
        ")"
      ],
      "cell_type": "code",
      "metadata": {
        "id": "yuN8PmwQcfAb"
      },
      "execution_count": null,
      "outputs": []
    },
    {
      "cell_type": "code",
      "source": [
        "from  langchain_core.tools import tool\n",
        "@tool\n",
        "def mul(a:int,b:int)->int:\n",
        "  \"Result of a*b is :\"\n",
        "  return a*b"
      ],
      "metadata": {
        "id": "7kCQPXbic3vM"
      },
      "execution_count": null,
      "outputs": []
    },
    {
      "cell_type": "code",
      "source": [
        "mul.invoke({\"a\":3,\"b\":3})"
      ],
      "metadata": {
        "colab": {
          "base_uri": "https://localhost:8080/"
        },
        "id": "s3rIUaZheWed",
        "outputId": "dc306490-9a9e-4df2-df26-eeb2ccaf9124"
      },
      "execution_count": null,
      "outputs": [
        {
          "output_type": "execute_result",
          "data": {
            "text/plain": [
              "9"
            ]
          },
          "metadata": {},
          "execution_count": 132
        }
      ]
    },
    {
      "cell_type": "code",
      "source": [
        "from ast import arg\n",
        "print(\"tool description\",mul.name,\"\\n tool arguments : \", mul.args)"
      ],
      "metadata": {
        "colab": {
          "base_uri": "https://localhost:8080/"
        },
        "id": "BqK966iOejwq",
        "outputId": "a1567aec-4641-4e42-8def-3247b712765c"
      },
      "execution_count": null,
      "outputs": [
        {
          "output_type": "stream",
          "name": "stdout",
          "text": [
            "tool description mul \n",
            " tool arguments :  {'a': {'title': 'A', 'type': 'integer'}, 'b': {'title': 'B', 'type': 'integer'}}\n"
          ]
        }
      ]
    },
    {
      "cell_type": "code",
      "source": [
        "llm_with_tools = llm.bind_tools([mul])\n",
        "\n",
        "res = llm_with_tools.invoke(\"what is 3*3?\")\n",
        "print(\"response : \",res.content)"
      ],
      "metadata": {
        "colab": {
          "base_uri": "https://localhost:8080/"
        },
        "id": "xWlHcnYYftLA",
        "outputId": "3230da4d-bcf9-43d6-c508-7bb9f7d26925"
      },
      "execution_count": null,
      "outputs": [
        {
          "output_type": "stream",
          "name": "stdout",
          "text": [
            "response :  \n"
          ]
        }
      ]
    },
    {
      "cell_type": "code",
      "source": [
        "res.__dict__"
      ],
      "metadata": {
        "colab": {
          "base_uri": "https://localhost:8080/"
        },
        "id": "7gDBV_rRiH8P",
        "outputId": "6b7bb8af-9ee0-4e5d-81a7-f859e242768a"
      },
      "execution_count": null,
      "outputs": [
        {
          "output_type": "execute_result",
          "data": {
            "text/plain": [
              "{'content': '',\n",
              " 'additional_kwargs': {'function_call': {'name': 'mul',\n",
              "   'arguments': '{\"a\": 3.0, \"b\": 3.0}'}},\n",
              " 'response_metadata': {'prompt_feedback': {'block_reason': 0,\n",
              "   'safety_ratings': []},\n",
              "  'finish_reason': 'STOP',\n",
              "  'safety_ratings': [{'category': 'HARM_CATEGORY_HATE_SPEECH',\n",
              "    'probability': 'NEGLIGIBLE',\n",
              "    'blocked': False},\n",
              "   {'category': 'HARM_CATEGORY_DANGEROUS_CONTENT',\n",
              "    'probability': 'NEGLIGIBLE',\n",
              "    'blocked': False},\n",
              "   {'category': 'HARM_CATEGORY_HARASSMENT',\n",
              "    'probability': 'NEGLIGIBLE',\n",
              "    'blocked': False},\n",
              "   {'category': 'HARM_CATEGORY_SEXUALLY_EXPLICIT',\n",
              "    'probability': 'NEGLIGIBLE',\n",
              "    'blocked': False}]},\n",
              " 'type': 'ai',\n",
              " 'name': None,\n",
              " 'id': 'run-2e5e9180-2a21-415f-a0b3-6d325a8e1076-0',\n",
              " 'example': False,\n",
              " 'tool_calls': [{'name': 'mul',\n",
              "   'args': {'a': 3.0, 'b': 3.0},\n",
              "   'id': '3ea628f3-b653-46b2-9256-fe204a1f5fbd',\n",
              "   'type': 'tool_call'}],\n",
              " 'invalid_tool_calls': [],\n",
              " 'usage_metadata': {'input_tokens': 56,\n",
              "  'output_tokens': 3,\n",
              "  'total_tokens': 59,\n",
              "  'input_token_details': {'cache_read': 0}}}"
            ]
          },
          "metadata": {},
          "execution_count": 137
        }
      ]
    },
    {
      "cell_type": "code",
      "source": [
        "print(res.tool_calls)"
      ],
      "metadata": {
        "colab": {
          "base_uri": "https://localhost:8080/"
        },
        "id": "nvUGgxOuxnhQ",
        "outputId": "95842e9a-df5c-42b8-af86-09c7e86b8190"
      },
      "execution_count": null,
      "outputs": [
        {
          "output_type": "stream",
          "name": "stdout",
          "text": [
            "[{'name': 'mul', 'args': {'a': 3.0, 'b': 3.0}, 'id': '3ea628f3-b653-46b2-9256-fe204a1f5fbd', 'type': 'tool_call'}]\n"
          ]
        }
      ]
    },
    {
      "cell_type": "code",
      "source": [
        "for tool in  res.tool_calls:\n",
        "  if tool['name']==\"mul\":\n",
        "    tool_output = mul.invoke(tool['args'])\n",
        "    print(f\"multiplication Result:{tool_output}\")\n",
        "  else:\n",
        "    print(f\"unknown tool : {tool['name']}\")"
      ],
      "metadata": {
        "colab": {
          "base_uri": "https://localhost:8080/"
        },
        "id": "1_X0emiIij6A",
        "outputId": "9557d220-9b32-4cb8-d685-10bfa4c583b6"
      },
      "execution_count": null,
      "outputs": [
        {
          "output_type": "stream",
          "name": "stdout",
          "text": [
            "multiplication Result:9\n"
          ]
        }
      ]
    },
    {
      "cell_type": "code",
      "source": [
        "res = llm_with_tools.invoke(\"weather?\")\n",
        "print(\"response : \",res.content)"
      ],
      "metadata": {
        "colab": {
          "base_uri": "https://localhost:8080/"
        },
        "id": "KnJH_Rk-iS46",
        "outputId": "5ea72f11-4951-4945-b634-4d89c33721ac"
      },
      "execution_count": null,
      "outputs": [
        {
          "output_type": "stream",
          "name": "stdout",
          "text": [
            "response :  I'm sorry, I'm not able to find weather information with the available tools. Is there anything else you need help with?\n"
          ]
        }
      ]
    },
    {
      "cell_type": "code",
      "source": [
        "from langchain_core.messages import HumanMessage , ToolMessage\n",
        "messages = [\n",
        "    HumanMessage(\n",
        "        \"hello , can you tell me what 5 multiplied by 6 is\"\n",
        "    )\n",
        "]\n",
        "llm_output = llm_with_tools.invoke(messages)\n",
        "messages.append(llm_output)"
      ],
      "metadata": {
        "id": "_1QB0vlFCmP_"
      },
      "execution_count": null,
      "outputs": []
    },
    {
      "cell_type": "code",
      "source": [
        "messages"
      ],
      "metadata": {
        "colab": {
          "base_uri": "https://localhost:8080/"
        },
        "id": "J_G1eHeM03bm",
        "outputId": "580a87ea-f435-4239-ea88-f84cab7ef260"
      },
      "execution_count": null,
      "outputs": [
        {
          "output_type": "execute_result",
          "data": {
            "text/plain": [
              "[HumanMessage(content='hello , can you tell me what 5 multiplied by 6 is', additional_kwargs={}, response_metadata={}),\n",
              " AIMessage(content='', additional_kwargs={'function_call': {'name': 'mul', 'arguments': '{\"a\": 5.0, \"b\": 6.0}'}}, response_metadata={'prompt_feedback': {'block_reason': 0, 'safety_ratings': []}, 'finish_reason': 'STOP', 'safety_ratings': [{'category': 'HARM_CATEGORY_HATE_SPEECH', 'probability': 'NEGLIGIBLE', 'blocked': False}, {'category': 'HARM_CATEGORY_DANGEROUS_CONTENT', 'probability': 'NEGLIGIBLE', 'blocked': False}, {'category': 'HARM_CATEGORY_HARASSMENT', 'probability': 'NEGLIGIBLE', 'blocked': False}, {'category': 'HARM_CATEGORY_SEXUALLY_EXPLICIT', 'probability': 'NEGLIGIBLE', 'blocked': False}]}, id='run-4d41732a-baba-4edd-b11c-96aad4017b03-0', tool_calls=[{'name': 'mul', 'args': {'a': 5.0, 'b': 6.0}, 'id': '2201e0a6-0f2d-4dbb-b15d-24d199db675d', 'type': 'tool_call'}], usage_metadata={'input_tokens': 63, 'output_tokens': 3, 'total_tokens': 66, 'input_token_details': {'cache_read': 0}})]"
            ]
          },
          "metadata": {},
          "execution_count": 50
        }
      ]
    },
    {
      "cell_type": "code",
      "source": [
        "for tool in  res.tool_calls:\n",
        "  if tool['name']==\"mul\":\n",
        "    tool_output = mul.invoke(tool['args'])\n",
        "    messages.append(ToolMessage(tool_output,tool_call_id = tool['id']))\n",
        "  else:\n",
        "    print(f\"unknown tool : {tool['name']}\")"
      ],
      "metadata": {
        "id": "U0JYmL3q0_PR"
      },
      "execution_count": null,
      "outputs": []
    },
    {
      "cell_type": "code",
      "source": [
        "from pprint import pprint\n",
        "pprint(messages)"
      ],
      "metadata": {
        "colab": {
          "base_uri": "https://localhost:8080/"
        },
        "id": "3cIx9PM51yt3",
        "outputId": "377e9812-404b-49cf-dbc0-64249171eef6"
      },
      "execution_count": null,
      "outputs": [
        {
          "output_type": "stream",
          "name": "stdout",
          "text": [
            "[HumanMessage(content='hello , can you tell me what 5 multiplied by 6 is', additional_kwargs={}, response_metadata={}),\n",
            " AIMessage(content='', additional_kwargs={'function_call': {'name': 'mul', 'arguments': '{\"a\": 5.0, \"b\": 6.0}'}}, response_metadata={'prompt_feedback': {'block_reason': 0, 'safety_ratings': []}, 'finish_reason': 'STOP', 'safety_ratings': [{'category': 'HARM_CATEGORY_HATE_SPEECH', 'probability': 'NEGLIGIBLE', 'blocked': False}, {'category': 'HARM_CATEGORY_DANGEROUS_CONTENT', 'probability': 'NEGLIGIBLE', 'blocked': False}, {'category': 'HARM_CATEGORY_HARASSMENT', 'probability': 'NEGLIGIBLE', 'blocked': False}, {'category': 'HARM_CATEGORY_SEXUALLY_EXPLICIT', 'probability': 'NEGLIGIBLE', 'blocked': False}]}, id='run-4d41732a-baba-4edd-b11c-96aad4017b03-0', tool_calls=[{'name': 'mul', 'args': {'a': 5.0, 'b': 6.0}, 'id': '2201e0a6-0f2d-4dbb-b15d-24d199db675d', 'type': 'tool_call'}], usage_metadata={'input_tokens': 63, 'output_tokens': 3, 'total_tokens': 66, 'input_token_details': {'cache_read': 0}})]\n"
          ]
        }
      ]
    },
    {
      "cell_type": "code",
      "source": [
        "res = llm_with_tools.invoke(messages)\n",
        "print(res.content)"
      ],
      "metadata": {
        "colab": {
          "base_uri": "https://localhost:8080/"
        },
        "id": "nAePFhkx19WZ",
        "outputId": "0f174e30-05e9-4918-e276-0f78b98cbce7"
      },
      "execution_count": null,
      "outputs": [
        {
          "output_type": "stream",
          "name": "stdout",
          "text": [
            "The result of 5 multiplied by 6 is 30.\n"
          ]
        }
      ]
    },
    {
      "cell_type": "markdown",
      "source": [
        "# **division**"
      ],
      "metadata": {
        "id": "bWpWTx--3XAt"
      }
    },
    {
      "cell_type": "code",
      "source": [
        "from  langchain_core.tools import tool\n",
        "@tool\n",
        "def div(a: int, b: int) -> str:\n",
        "    \"Result of a/b is :\"\n",
        "    try:\n",
        "        return f\"The result is {a / b}\"\n",
        "    except ZeroDivisionError:\n",
        "        return \"Error: Division by zero is not allowed.\"\n"
      ],
      "metadata": {
        "id": "gdpi9Jx02SAT"
      },
      "execution_count": null,
      "outputs": []
    },
    {
      "cell_type": "code",
      "source": [
        "try:\n",
        "    result = div.invoke({\"a\": 3, \"b\": 0})\n",
        "    print(\"Division result:\", result)\n",
        "except Exception as e:\n",
        "    print(f\"Error invoking tool: {e}\")"
      ],
      "metadata": {
        "colab": {
          "base_uri": "https://localhost:8080/"
        },
        "id": "vIQK-Yp22r7k",
        "outputId": "58735932-1c93-4349-adaa-b4cb0f870caf"
      },
      "execution_count": null,
      "outputs": [
        {
          "output_type": "stream",
          "name": "stdout",
          "text": [
            "Division result: Error: Division by zero is not allowed.\n"
          ]
        }
      ]
    },
    {
      "cell_type": "code",
      "source": [
        "from ast import arg\n",
        "print(\"tool description\",div.name,\"\\n tool arguments : \", div.args)"
      ],
      "metadata": {
        "colab": {
          "base_uri": "https://localhost:8080/"
        },
        "id": "3hNAxT4v3MXz",
        "outputId": "f6b740a0-4a95-4d8d-c19a-a235d22e58f7"
      },
      "execution_count": null,
      "outputs": [
        {
          "output_type": "stream",
          "name": "stdout",
          "text": [
            "tool description div \n",
            " tool arguments :  {'a': {'title': 'A', 'type': 'integer'}, 'b': {'title': 'B', 'type': 'integer'}}\n"
          ]
        }
      ]
    },
    {
      "cell_type": "code",
      "source": [
        "llm_with_tools = llm.bind_tools([div])\n",
        "\n",
        "res = llm_with_tools.invoke(\"how are you?\")\n",
        "print(\"response : \",res.content)"
      ],
      "metadata": {
        "colab": {
          "base_uri": "https://localhost:8080/"
        },
        "id": "kyg5S9-33Urv",
        "outputId": "34a25830-994a-49c4-9299-8ddd37f424c5"
      },
      "execution_count": null,
      "outputs": [
        {
          "output_type": "stream",
          "name": "stdout",
          "text": [
            "response :  I'm doing well, thank you for asking! How can I help you today?\n"
          ]
        }
      ]
    },
    {
      "cell_type": "code",
      "source": [
        "res.__dict__"
      ],
      "metadata": {
        "colab": {
          "base_uri": "https://localhost:8080/"
        },
        "id": "-ZAlm6OK3rjl",
        "outputId": "b8be2985-992b-4644-cb8d-2809d860586f"
      },
      "execution_count": null,
      "outputs": [
        {
          "output_type": "execute_result",
          "data": {
            "text/plain": [
              "{'content': \"I'm doing well, thank you for asking! How can I help you today?\",\n",
              " 'additional_kwargs': {},\n",
              " 'response_metadata': {'prompt_feedback': {'block_reason': 0,\n",
              "   'safety_ratings': []},\n",
              "  'finish_reason': 'STOP',\n",
              "  'safety_ratings': [{'category': 'HARM_CATEGORY_HATE_SPEECH',\n",
              "    'probability': 'NEGLIGIBLE',\n",
              "    'blocked': False},\n",
              "   {'category': 'HARM_CATEGORY_DANGEROUS_CONTENT',\n",
              "    'probability': 'NEGLIGIBLE',\n",
              "    'blocked': False},\n",
              "   {'category': 'HARM_CATEGORY_HARASSMENT',\n",
              "    'probability': 'NEGLIGIBLE',\n",
              "    'blocked': False},\n",
              "   {'category': 'HARM_CATEGORY_SEXUALLY_EXPLICIT',\n",
              "    'probability': 'NEGLIGIBLE',\n",
              "    'blocked': False}]},\n",
              " 'type': 'ai',\n",
              " 'name': None,\n",
              " 'id': 'run-d09e2603-96f3-4705-b1c7-7d0b6472cc6b-0',\n",
              " 'example': False,\n",
              " 'tool_calls': [],\n",
              " 'invalid_tool_calls': [],\n",
              " 'usage_metadata': {'input_tokens': 53,\n",
              "  'output_tokens': 19,\n",
              "  'total_tokens': 72,\n",
              "  'input_token_details': {'cache_read': 0}}}"
            ]
          },
          "metadata": {},
          "execution_count": 58
        }
      ]
    },
    {
      "cell_type": "code",
      "source": [
        "print(res.tool_calls)"
      ],
      "metadata": {
        "colab": {
          "base_uri": "https://localhost:8080/"
        },
        "id": "ynjj_zqA4Uaj",
        "outputId": "1d8c5311-fd34-49fa-9908-2b0d43abe575"
      },
      "execution_count": null,
      "outputs": [
        {
          "output_type": "stream",
          "name": "stdout",
          "text": [
            "[]\n"
          ]
        }
      ]
    },
    {
      "cell_type": "code",
      "source": [
        "for tool in  res.tool_calls:\n",
        "  if tool['name']==\"div\":\n",
        "    tool_output = mul.invoke(tool['args'])\n",
        "    print(f\"division Result: {tool_output}\")\n",
        "  else:\n",
        "    print(f\"unknown tool : {tool['name']}\")"
      ],
      "metadata": {
        "id": "ZGWwxPyM4dMh"
      },
      "execution_count": null,
      "outputs": []
    },
    {
      "cell_type": "code",
      "source": [
        "from langchain_core.messages import HumanMessage , ToolMessage\n",
        "messages = [\n",
        "    HumanMessage(\n",
        "        \"hello , can you tell me what 5 divide by 0 is\"\n",
        "    )\n",
        "]\n",
        "llm_output = llm_with_tools.invoke(messages)\n",
        "messages.append(llm_output)"
      ],
      "metadata": {
        "id": "t4pOCQWY4r1L"
      },
      "execution_count": null,
      "outputs": []
    },
    {
      "cell_type": "code",
      "source": [
        "messages"
      ],
      "metadata": {
        "colab": {
          "base_uri": "https://localhost:8080/"
        },
        "id": "buD5tGbM47xt",
        "outputId": "bdf9c518-f8a5-4d1e-b2b7-b036ce7406f9"
      },
      "execution_count": null,
      "outputs": [
        {
          "output_type": "execute_result",
          "data": {
            "text/plain": [
              "[HumanMessage(content='hello , can you tell me what 5 divide by 0 is', additional_kwargs={}, response_metadata={}),\n",
              " AIMessage(content='', additional_kwargs={'function_call': {'name': 'div', 'arguments': '{\"a\": 5.0, \"b\": 0.0}'}}, response_metadata={'prompt_feedback': {'block_reason': 0, 'safety_ratings': []}, 'finish_reason': 'STOP', 'safety_ratings': [{'category': 'HARM_CATEGORY_HATE_SPEECH', 'probability': 'NEGLIGIBLE', 'blocked': False}, {'category': 'HARM_CATEGORY_DANGEROUS_CONTENT', 'probability': 'NEGLIGIBLE', 'blocked': False}, {'category': 'HARM_CATEGORY_HARASSMENT', 'probability': 'NEGLIGIBLE', 'blocked': False}, {'category': 'HARM_CATEGORY_SEXUALLY_EXPLICIT', 'probability': 'NEGLIGIBLE', 'blocked': False}]}, id='run-c96499e4-6cb0-4670-b1a2-176794316468-0', tool_calls=[{'name': 'div', 'args': {'a': 5.0, 'b': 0.0}, 'id': 'ecc7a0fa-97cc-42ca-8a2e-27213e6c4c4d', 'type': 'tool_call'}], usage_metadata={'input_tokens': 63, 'output_tokens': 3, 'total_tokens': 66, 'input_token_details': {'cache_read': 0}})]"
            ]
          },
          "metadata": {},
          "execution_count": 62
        }
      ]
    },
    {
      "cell_type": "code",
      "source": [
        "for tool in  res.tool_calls:\n",
        "  if tool['name']==\"mul\":\n",
        "    tool_output = mul.invoke(tool['args'])\n",
        "    messages.append(ToolMessage(tool_output,tool_call_id = tool['id']))\n",
        "  else:\n",
        "    print(f\"unknown tool : {tool['name']}\")"
      ],
      "metadata": {
        "id": "jUcBTEVv49i4"
      },
      "execution_count": null,
      "outputs": []
    },
    {
      "cell_type": "code",
      "source": [
        "from pprint import pprint\n",
        "pprint(messages)"
      ],
      "metadata": {
        "colab": {
          "base_uri": "https://localhost:8080/"
        },
        "id": "JsBnv54S4-3R",
        "outputId": "2b697285-1956-4da4-96bc-4cb6d4e6c5b0"
      },
      "execution_count": null,
      "outputs": [
        {
          "output_type": "stream",
          "name": "stdout",
          "text": [
            "[HumanMessage(content='hello , can you tell me what 5 divide by 0 is', additional_kwargs={}, response_metadata={}),\n",
            " AIMessage(content='', additional_kwargs={'function_call': {'name': 'div', 'arguments': '{\"a\": 5.0, \"b\": 0.0}'}}, response_metadata={'prompt_feedback': {'block_reason': 0, 'safety_ratings': []}, 'finish_reason': 'STOP', 'safety_ratings': [{'category': 'HARM_CATEGORY_HATE_SPEECH', 'probability': 'NEGLIGIBLE', 'blocked': False}, {'category': 'HARM_CATEGORY_DANGEROUS_CONTENT', 'probability': 'NEGLIGIBLE', 'blocked': False}, {'category': 'HARM_CATEGORY_HARASSMENT', 'probability': 'NEGLIGIBLE', 'blocked': False}, {'category': 'HARM_CATEGORY_SEXUALLY_EXPLICIT', 'probability': 'NEGLIGIBLE', 'blocked': False}]}, id='run-c96499e4-6cb0-4670-b1a2-176794316468-0', tool_calls=[{'name': 'div', 'args': {'a': 5.0, 'b': 0.0}, 'id': 'ecc7a0fa-97cc-42ca-8a2e-27213e6c4c4d', 'type': 'tool_call'}], usage_metadata={'input_tokens': 63, 'output_tokens': 3, 'total_tokens': 66, 'input_token_details': {'cache_read': 0}})]\n"
          ]
        }
      ]
    },
    {
      "cell_type": "code",
      "source": [
        "res = llm_with_tools.invoke(messages)\n",
        "print(res.content)"
      ],
      "metadata": {
        "colab": {
          "base_uri": "https://localhost:8080/"
        },
        "id": "Pbb90inS5JRG",
        "outputId": "c41083a0-db72-4aa4-d8b4-b1c7401d6776"
      },
      "execution_count": null,
      "outputs": [
        {
          "output_type": "stream",
          "name": "stdout",
          "text": [
            "I'm sorry, but I cannot divide by zero.\n"
          ]
        }
      ]
    },
    {
      "cell_type": "markdown",
      "source": [
        "# **subtracton**\n"
      ],
      "metadata": {
        "id": "ICg-4EX-5gka"
      }
    },
    {
      "cell_type": "code",
      "source": [
        "from  langchain_core.tools import tool\n",
        "@tool\n",
        "def sub(a:int,b:int)->int:\n",
        "  \"Result of a-b is :\"\n",
        "  return a-b"
      ],
      "metadata": {
        "id": "34V0w4L358Qj"
      },
      "execution_count": null,
      "outputs": []
    },
    {
      "cell_type": "code",
      "source": [
        "sub.invoke({\"a\":3,\"b\":3})"
      ],
      "metadata": {
        "colab": {
          "base_uri": "https://localhost:8080/"
        },
        "id": "VpfoGRC37IxM",
        "outputId": "b7f15ebb-531f-460c-80cc-7a0c1bba8527"
      },
      "execution_count": null,
      "outputs": [
        {
          "output_type": "execute_result",
          "data": {
            "text/plain": [
              "0"
            ]
          },
          "metadata": {},
          "execution_count": 91
        }
      ]
    },
    {
      "cell_type": "code",
      "source": [
        "from ast import arg\n",
        "print(\"tool description\",sub.name,\"\\n tool arguments : \", sub.args)"
      ],
      "metadata": {
        "colab": {
          "base_uri": "https://localhost:8080/"
        },
        "id": "-v1cdDPd7Mv0",
        "outputId": "1bd8b187-7ab2-44fe-a452-20dda9dccee2"
      },
      "execution_count": null,
      "outputs": [
        {
          "output_type": "stream",
          "name": "stdout",
          "text": [
            "tool description sub \n",
            " tool arguments :  {'a': {'title': 'A', 'type': 'integer'}, 'b': {'title': 'B', 'type': 'integer'}}\n"
          ]
        }
      ]
    },
    {
      "cell_type": "code",
      "source": [
        "llm_with_tools = llm.bind_tools([sub])\n",
        "\n",
        "res = llm_with_tools.invoke(\"how are you?\")\n",
        "print(\"response : \",res.content)"
      ],
      "metadata": {
        "colab": {
          "base_uri": "https://localhost:8080/"
        },
        "id": "-yTDVkJv7SWE",
        "outputId": "7c9d9627-50ce-48b6-87f7-4ff771457fc0"
      },
      "execution_count": null,
      "outputs": [
        {
          "output_type": "stream",
          "name": "stdout",
          "text": [
            "response :  I'm doing well, thank you for asking! How can I help you today?\n"
          ]
        }
      ]
    },
    {
      "cell_type": "code",
      "source": [
        "res.__dict__"
      ],
      "metadata": {
        "colab": {
          "base_uri": "https://localhost:8080/"
        },
        "id": "0BAjCN9K7Utm",
        "outputId": "df85c2c7-e659-4e16-8e11-50c2be0229a0"
      },
      "execution_count": null,
      "outputs": [
        {
          "output_type": "execute_result",
          "data": {
            "text/plain": [
              "{'content': \"I'm doing well, thank you for asking! How can I help you today?\",\n",
              " 'additional_kwargs': {},\n",
              " 'response_metadata': {'prompt_feedback': {'block_reason': 0,\n",
              "   'safety_ratings': []},\n",
              "  'finish_reason': 'STOP',\n",
              "  'safety_ratings': [{'category': 'HARM_CATEGORY_HATE_SPEECH',\n",
              "    'probability': 'NEGLIGIBLE',\n",
              "    'blocked': False},\n",
              "   {'category': 'HARM_CATEGORY_DANGEROUS_CONTENT',\n",
              "    'probability': 'NEGLIGIBLE',\n",
              "    'blocked': False},\n",
              "   {'category': 'HARM_CATEGORY_HARASSMENT',\n",
              "    'probability': 'NEGLIGIBLE',\n",
              "    'blocked': False},\n",
              "   {'category': 'HARM_CATEGORY_SEXUALLY_EXPLICIT',\n",
              "    'probability': 'NEGLIGIBLE',\n",
              "    'blocked': False}]},\n",
              " 'type': 'ai',\n",
              " 'name': None,\n",
              " 'id': 'run-f8b69937-a220-46c1-affc-f64b23c0d9c6-0',\n",
              " 'example': False,\n",
              " 'tool_calls': [],\n",
              " 'invalid_tool_calls': [],\n",
              " 'usage_metadata': {'input_tokens': 53,\n",
              "  'output_tokens': 19,\n",
              "  'total_tokens': 72,\n",
              "  'input_token_details': {'cache_read': 0}}}"
            ]
          },
          "metadata": {},
          "execution_count": 94
        }
      ]
    },
    {
      "cell_type": "code",
      "source": [
        "print(res.tool_calls)"
      ],
      "metadata": {
        "colab": {
          "base_uri": "https://localhost:8080/"
        },
        "id": "662-2HRV7Vg5",
        "outputId": "c060d8ec-15cf-4cd9-b878-c45056018aae"
      },
      "execution_count": null,
      "outputs": [
        {
          "output_type": "stream",
          "name": "stdout",
          "text": [
            "[]\n"
          ]
        }
      ]
    },
    {
      "cell_type": "code",
      "source": [
        "for tool in  res.tool_calls:\n",
        "  if tool['name']==\"sub\":\n",
        "    tool_output = sub.invoke(tool['args'])\n",
        "    print(f\"subtraction Result: {tool_output}\")\n",
        "  else:\n",
        "    print(f\"unknown tool : {tool['name']}\")"
      ],
      "metadata": {
        "id": "kS_0hqzs7dY9"
      },
      "execution_count": null,
      "outputs": []
    },
    {
      "cell_type": "code",
      "source": [
        "from langchain_core.messages import HumanMessage , ToolMessage\n",
        "messages = [\n",
        "    HumanMessage(\n",
        "        \"hello , can you tell me what 5 subtract by 6 is\"\n",
        "    )\n",
        "]\n",
        "llm_output = llm_with_tools.invoke(messages)\n",
        "messages.append(llm_output)"
      ],
      "metadata": {
        "id": "EoDS7DJR7eaz"
      },
      "execution_count": null,
      "outputs": []
    },
    {
      "cell_type": "code",
      "source": [
        "messages"
      ],
      "metadata": {
        "colab": {
          "base_uri": "https://localhost:8080/"
        },
        "id": "-s2YqpXC7h7x",
        "outputId": "aaf0e04f-ab7f-49ef-ddc4-cd6e21113327"
      },
      "execution_count": null,
      "outputs": [
        {
          "output_type": "execute_result",
          "data": {
            "text/plain": [
              "[HumanMessage(content='hello , can you tell me what 5 subtract by 6 is', additional_kwargs={}, response_metadata={}),\n",
              " AIMessage(content='', additional_kwargs={'function_call': {'name': 'sub', 'arguments': '{\"a\": 5.0, \"b\": 6.0}'}}, response_metadata={'prompt_feedback': {'block_reason': 0, 'safety_ratings': []}, 'finish_reason': 'STOP', 'safety_ratings': [{'category': 'HARM_CATEGORY_HATE_SPEECH', 'probability': 'NEGLIGIBLE', 'blocked': False}, {'category': 'HARM_CATEGORY_DANGEROUS_CONTENT', 'probability': 'NEGLIGIBLE', 'blocked': False}, {'category': 'HARM_CATEGORY_HARASSMENT', 'probability': 'NEGLIGIBLE', 'blocked': False}, {'category': 'HARM_CATEGORY_SEXUALLY_EXPLICIT', 'probability': 'NEGLIGIBLE', 'blocked': False}]}, id='run-e6239f07-7411-4301-8dd8-97b8ef779525-0', tool_calls=[{'name': 'sub', 'args': {'a': 5.0, 'b': 6.0}, 'id': '59e0f069-7995-449b-9505-8bb674d9c959', 'type': 'tool_call'}], usage_metadata={'input_tokens': 63, 'output_tokens': 3, 'total_tokens': 66, 'input_token_details': {'cache_read': 0}})]"
            ]
          },
          "metadata": {},
          "execution_count": 98
        }
      ]
    },
    {
      "cell_type": "code",
      "source": [
        "for tool in  res.tool_calls:\n",
        "  if tool['name']==\"mul\":\n",
        "    tool_output = mul.invoke(tool['args'])\n",
        "    messages.append(ToolMessage(tool_output,tool_call_id = tool['id']))\n",
        "  else:\n",
        "    print(f\"unknown tool : {tool['name']}\")"
      ],
      "metadata": {
        "id": "2uHLkoIN7kho"
      },
      "execution_count": null,
      "outputs": []
    },
    {
      "cell_type": "code",
      "source": [
        "from pprint import pprint\n",
        "pprint(messages)"
      ],
      "metadata": {
        "colab": {
          "base_uri": "https://localhost:8080/"
        },
        "id": "GrgAmepy7sxD",
        "outputId": "e62e0c81-607c-48ee-da0c-441316ce9aa7"
      },
      "execution_count": null,
      "outputs": [
        {
          "output_type": "stream",
          "name": "stdout",
          "text": [
            "[HumanMessage(content='hello , can you tell me what 5 subtract by 6 is', additional_kwargs={}, response_metadata={}),\n",
            " AIMessage(content='', additional_kwargs={'function_call': {'name': 'sub', 'arguments': '{\"a\": 5.0, \"b\": 6.0}'}}, response_metadata={'prompt_feedback': {'block_reason': 0, 'safety_ratings': []}, 'finish_reason': 'STOP', 'safety_ratings': [{'category': 'HARM_CATEGORY_HATE_SPEECH', 'probability': 'NEGLIGIBLE', 'blocked': False}, {'category': 'HARM_CATEGORY_DANGEROUS_CONTENT', 'probability': 'NEGLIGIBLE', 'blocked': False}, {'category': 'HARM_CATEGORY_HARASSMENT', 'probability': 'NEGLIGIBLE', 'blocked': False}, {'category': 'HARM_CATEGORY_SEXUALLY_EXPLICIT', 'probability': 'NEGLIGIBLE', 'blocked': False}]}, id='run-e6239f07-7411-4301-8dd8-97b8ef779525-0', tool_calls=[{'name': 'sub', 'args': {'a': 5.0, 'b': 6.0}, 'id': '59e0f069-7995-449b-9505-8bb674d9c959', 'type': 'tool_call'}], usage_metadata={'input_tokens': 63, 'output_tokens': 3, 'total_tokens': 66, 'input_token_details': {'cache_read': 0}})]\n"
          ]
        }
      ]
    },
    {
      "cell_type": "code",
      "source": [
        "res = llm_with_tools.invoke(messages)\n",
        "print(res.content)"
      ],
      "metadata": {
        "colab": {
          "base_uri": "https://localhost:8080/"
        },
        "id": "grKXzZ4g7xQx",
        "outputId": "a98574db-fd3e-4cc7-ee0c-2bcc94f5fc65"
      },
      "execution_count": null,
      "outputs": [
        {
          "output_type": "stream",
          "name": "stdout",
          "text": [
            "Result of 5-6 is : -1\n"
          ]
        }
      ]
    },
    {
      "cell_type": "markdown",
      "source": [
        "# **addition**"
      ],
      "metadata": {
        "id": "N_O3m0VI8zDv"
      }
    },
    {
      "cell_type": "code",
      "source": [
        "from  langchain_core.tools import tool\n",
        "@tool\n",
        "def add(a:int,b:int)->int:\n",
        "  \"Result of a+b is :\"\n",
        "  return a+b"
      ],
      "metadata": {
        "id": "YuN-lgdA83py"
      },
      "execution_count": null,
      "outputs": []
    },
    {
      "cell_type": "code",
      "source": [
        "add.invoke({\"a\":3,\"b\":3})"
      ],
      "metadata": {
        "colab": {
          "base_uri": "https://localhost:8080/"
        },
        "id": "PP3j4wAn89Ii",
        "outputId": "7813ecb2-5bac-439e-dec3-6f12ca830c12"
      },
      "execution_count": null,
      "outputs": [
        {
          "output_type": "execute_result",
          "data": {
            "text/plain": [
              "6"
            ]
          },
          "metadata": {},
          "execution_count": 115
        }
      ]
    },
    {
      "cell_type": "code",
      "source": [
        "from ast import arg\n",
        "print(\"tool description\",add.name,\"\\n tool arguments : \", add.args)"
      ],
      "metadata": {
        "colab": {
          "base_uri": "https://localhost:8080/"
        },
        "id": "XHFRBzD79Aur",
        "outputId": "8c00f958-a070-40c0-ed21-5cfcb8146d0f"
      },
      "execution_count": null,
      "outputs": [
        {
          "output_type": "stream",
          "name": "stdout",
          "text": [
            "tool description add \n",
            " tool arguments :  {'a': {'title': 'A', 'type': 'integer'}, 'b': {'title': 'B', 'type': 'integer'}}\n"
          ]
        }
      ]
    },
    {
      "cell_type": "code",
      "source": [
        "llm_with_tools = llm.bind_tools([add])\n",
        "\n",
        "res = llm_with_tools.invoke(\"how are you?\")\n",
        "print(\"response : \",res.content)"
      ],
      "metadata": {
        "colab": {
          "base_uri": "https://localhost:8080/"
        },
        "id": "6PgnRoQW9B6e",
        "outputId": "dd673e6c-246b-4356-e585-f373cbc8666c"
      },
      "execution_count": null,
      "outputs": [
        {
          "output_type": "stream",
          "name": "stdout",
          "text": [
            "response :  I'm doing well, thank you for asking! How can I help you today?\n"
          ]
        }
      ]
    },
    {
      "cell_type": "code",
      "source": [
        "res.__dict__"
      ],
      "metadata": {
        "colab": {
          "base_uri": "https://localhost:8080/"
        },
        "id": "h4pIEL7-9HWv",
        "outputId": "fb2abbbc-f49c-4d6c-e6a4-01fc6ff78868"
      },
      "execution_count": null,
      "outputs": [
        {
          "output_type": "execute_result",
          "data": {
            "text/plain": [
              "{'content': \"I'm doing well, thank you for asking! How can I help you today?\",\n",
              " 'additional_kwargs': {},\n",
              " 'response_metadata': {'prompt_feedback': {'block_reason': 0,\n",
              "   'safety_ratings': []},\n",
              "  'finish_reason': 'STOP',\n",
              "  'safety_ratings': [{'category': 'HARM_CATEGORY_HATE_SPEECH',\n",
              "    'probability': 'NEGLIGIBLE',\n",
              "    'blocked': False},\n",
              "   {'category': 'HARM_CATEGORY_DANGEROUS_CONTENT',\n",
              "    'probability': 'NEGLIGIBLE',\n",
              "    'blocked': False},\n",
              "   {'category': 'HARM_CATEGORY_HARASSMENT',\n",
              "    'probability': 'NEGLIGIBLE',\n",
              "    'blocked': False},\n",
              "   {'category': 'HARM_CATEGORY_SEXUALLY_EXPLICIT',\n",
              "    'probability': 'NEGLIGIBLE',\n",
              "    'blocked': False}]},\n",
              " 'type': 'ai',\n",
              " 'name': None,\n",
              " 'id': 'run-e1954874-9c9e-4f1b-b10d-0d95ac38ea6f-0',\n",
              " 'example': False,\n",
              " 'tool_calls': [],\n",
              " 'invalid_tool_calls': [],\n",
              " 'usage_metadata': {'input_tokens': 53,\n",
              "  'output_tokens': 19,\n",
              "  'total_tokens': 72,\n",
              "  'input_token_details': {'cache_read': 0}}}"
            ]
          },
          "metadata": {},
          "execution_count": 118
        }
      ]
    },
    {
      "cell_type": "code",
      "source": [
        "print(res.tool_calls)"
      ],
      "metadata": {
        "colab": {
          "base_uri": "https://localhost:8080/"
        },
        "id": "tOaW6i_y9Knu",
        "outputId": "2fee88e4-9ba3-46f9-82cc-4cd9ca556a47"
      },
      "execution_count": null,
      "outputs": [
        {
          "output_type": "stream",
          "name": "stdout",
          "text": [
            "[]\n"
          ]
        }
      ]
    },
    {
      "cell_type": "code",
      "source": [
        "for tool in  res.tool_calls:\n",
        "  if tool['name']==\"add\":\n",
        "    tool_output = sub.invoke(tool['args'])\n",
        "    print(f\"addition Result: {tool_output}\")\n",
        "  else:\n",
        "    print(f\"unknown tool : {tool['name']}\")"
      ],
      "metadata": {
        "id": "ThDQYrTo9NXn"
      },
      "execution_count": null,
      "outputs": []
    },
    {
      "cell_type": "code",
      "source": [
        "from langchain_core.messages import HumanMessage , ToolMessage\n",
        "messages = [\n",
        "    HumanMessage(\n",
        "        \"hello , can you tell me what   5 additin by 6 is\"\n",
        "    )\n",
        "]\n",
        "llm_output = llm_with_tools.invoke(messages)\n",
        "messages.append(llm_output)"
      ],
      "metadata": {
        "id": "rrDH6m_h9Poo"
      },
      "execution_count": null,
      "outputs": []
    },
    {
      "cell_type": "code",
      "source": [
        "messages"
      ],
      "metadata": {
        "colab": {
          "base_uri": "https://localhost:8080/"
        },
        "id": "dAbrYe6-9RSn",
        "outputId": "0a979cd7-2011-4ece-b651-f8f068cbe2d2"
      },
      "execution_count": null,
      "outputs": [
        {
          "output_type": "execute_result",
          "data": {
            "text/plain": [
              "[HumanMessage(content='hello , can you tell me what   5 additin by 6 is', additional_kwargs={}, response_metadata={}),\n",
              " AIMessage(content='', additional_kwargs={'function_call': {'name': 'add', 'arguments': '{\"a\": 5.0, \"b\": 6.0}'}}, response_metadata={'prompt_feedback': {'block_reason': 0, 'safety_ratings': []}, 'finish_reason': 'STOP', 'safety_ratings': [{'category': 'HARM_CATEGORY_HATE_SPEECH', 'probability': 'NEGLIGIBLE', 'blocked': False}, {'category': 'HARM_CATEGORY_DANGEROUS_CONTENT', 'probability': 'NEGLIGIBLE', 'blocked': False}, {'category': 'HARM_CATEGORY_HARASSMENT', 'probability': 'NEGLIGIBLE', 'blocked': False}, {'category': 'HARM_CATEGORY_SEXUALLY_EXPLICIT', 'probability': 'NEGLIGIBLE', 'blocked': False}]}, id='run-58e879d4-1e0a-4235-930c-5adcb3a3fdee-0', tool_calls=[{'name': 'add', 'args': {'a': 5.0, 'b': 6.0}, 'id': '69f23661-2322-4003-bc3d-383522251182', 'type': 'tool_call'}], usage_metadata={'input_tokens': 64, 'output_tokens': 3, 'total_tokens': 67, 'input_token_details': {'cache_read': 0}})]"
            ]
          },
          "metadata": {},
          "execution_count": 122
        }
      ]
    },
    {
      "cell_type": "code",
      "source": [
        "for tool in  res.tool_calls:\n",
        "  if tool['name']==\"add\":\n",
        "    tool_output = add.invoke(tool['args'])\n",
        "    messages.append(ToolMessage(tool_output,tool_call_id = tool['id']))\n",
        "  else:\n",
        "    print(f\"unknown tool : {tool['name']}\")"
      ],
      "metadata": {
        "id": "7eEl49cW9VHH"
      },
      "execution_count": null,
      "outputs": []
    },
    {
      "cell_type": "code",
      "source": [
        "from pprint import pprint\n",
        "pprint(messages)"
      ],
      "metadata": {
        "colab": {
          "base_uri": "https://localhost:8080/"
        },
        "id": "4g9rmC8X9YPC",
        "outputId": "1926d5de-f955-4cd0-d98f-a7e7c7a1fb4c"
      },
      "execution_count": null,
      "outputs": [
        {
          "output_type": "stream",
          "name": "stdout",
          "text": [
            "[HumanMessage(content='hello , can you tell me what   5 additin by 6 is', additional_kwargs={}, response_metadata={}),\n",
            " AIMessage(content='', additional_kwargs={'function_call': {'name': 'add', 'arguments': '{\"a\": 5.0, \"b\": 6.0}'}}, response_metadata={'prompt_feedback': {'block_reason': 0, 'safety_ratings': []}, 'finish_reason': 'STOP', 'safety_ratings': [{'category': 'HARM_CATEGORY_HATE_SPEECH', 'probability': 'NEGLIGIBLE', 'blocked': False}, {'category': 'HARM_CATEGORY_DANGEROUS_CONTENT', 'probability': 'NEGLIGIBLE', 'blocked': False}, {'category': 'HARM_CATEGORY_HARASSMENT', 'probability': 'NEGLIGIBLE', 'blocked': False}, {'category': 'HARM_CATEGORY_SEXUALLY_EXPLICIT', 'probability': 'NEGLIGIBLE', 'blocked': False}]}, id='run-58e879d4-1e0a-4235-930c-5adcb3a3fdee-0', tool_calls=[{'name': 'add', 'args': {'a': 5.0, 'b': 6.0}, 'id': '69f23661-2322-4003-bc3d-383522251182', 'type': 'tool_call'}], usage_metadata={'input_tokens': 64, 'output_tokens': 3, 'total_tokens': 67, 'input_token_details': {'cache_read': 0}})]\n"
          ]
        }
      ]
    },
    {
      "cell_type": "code",
      "source": [
        "res = llm_with_tools.invoke(messages)\n",
        "print(res.content)"
      ],
      "metadata": {
        "colab": {
          "base_uri": "https://localhost:8080/"
        },
        "id": "LWo_6kgX9ZBG",
        "outputId": "97a28f5b-adf2-4df5-e440-808303eb34f1"
      },
      "execution_count": null,
      "outputs": [
        {
          "output_type": "stream",
          "name": "stdout",
          "text": [
            "Result of 5 + 6 is : 11\n",
            "```\n"
          ]
        }
      ]
    }
  ]
}