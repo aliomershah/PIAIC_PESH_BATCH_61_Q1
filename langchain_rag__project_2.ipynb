{
  "nbformat": 4,
  "nbformat_minor": 0,
  "metadata": {
    "colab": {
      "provenance": [],
      "authorship_tag": "ABX9TyOfehX/kMWRULDZFyOjaxwo",
      "include_colab_link": true
    },
    "kernelspec": {
      "name": "python3",
      "display_name": "Python 3"
    },
    "language_info": {
      "name": "python"
    }
  },
  "cells": [
    {
      "cell_type": "markdown",
      "metadata": {
        "id": "view-in-github",
        "colab_type": "text"
      },
      "source": [
        "<a href=\"https://colab.research.google.com/github/aliomershah/PIAIC_PESH_BATCH_61_Q1/blob/master/langchain_rag__project_2.ipynb\" target=\"_parent\"><img src=\"https://colab.research.google.com/assets/colab-badge.svg\" alt=\"Open In Colab\"/></a>"
      ]
    },
    {
      "cell_type": "markdown",
      "source": [
        "langchain rag project 2 by  aliumer  quater 2 piaic peshawar batch 64 quater 2\n"
      ],
      "metadata": {
        "id": "vbuPKCX4bojc"
      }
    },
    {
      "cell_type": "code",
      "execution_count": 1,
      "metadata": {
        "colab": {
          "base_uri": "https://localhost:8080/"
        },
        "id": "QXcgw4s8baCE",
        "outputId": "b00b55c8-7088-4cb2-db62-2de7534b490a"
      },
      "outputs": [
        {
          "output_type": "stream",
          "name": "stdout",
          "text": [
            "\u001b[?25l   \u001b[90m━━━━━━━━━━━━━━━━━━━━━━━━━━━━━━━━━━━━━━━━\u001b[0m \u001b[32m0.0/41.3 kB\u001b[0m \u001b[31m?\u001b[0m eta \u001b[36m-:--:--\u001b[0m\r\u001b[2K   \u001b[90m━━━━━━━━━━━━━━━━━━━━━━━━━━━━━━━━━━━━━━━━\u001b[0m \u001b[32m41.3/41.3 kB\u001b[0m \u001b[31m1.2 MB/s\u001b[0m eta \u001b[36m0:00:00\u001b[0m\n",
            "\u001b[2K   \u001b[90m━━━━━━━━━━━━━━━━━━━━━━━━━━━━━━━━━━━━━━━━\u001b[0m \u001b[32m1.2/1.2 MB\u001b[0m \u001b[31m9.9 MB/s\u001b[0m eta \u001b[36m0:00:00\u001b[0m\n",
            "\u001b[2K   \u001b[90m━━━━━━━━━━━━━━━━━━━━━━━━━━━━━━━━━━━━━━━━\u001b[0m \u001b[32m244.8/244.8 kB\u001b[0m \u001b[31m10.7 MB/s\u001b[0m eta \u001b[36m0:00:00\u001b[0m\n",
            "\u001b[2K   \u001b[90m━━━━━━━━━━━━━━━━━━━━━━━━━━━━━━━━━━━━━━━━\u001b[0m \u001b[32m85.4/85.4 kB\u001b[0m \u001b[31m4.3 MB/s\u001b[0m eta \u001b[36m0:00:00\u001b[0m\n",
            "\u001b[?25h"
          ]
        }
      ],
      "source": [
        "%pip install -qU  langchain-pinecone langchain-google-genai\n",
        "from langchain_core.output_parsers import StrOutputParser"
      ]
    },
    {
      "cell_type": "code",
      "source": [
        "import os\n",
        "from google.colab import userdata\n",
        "\n",
        "#Setting up the Google Embedding model\n",
        "from langchain_google_genai import GoogleGenerativeAIEmbeddings\n",
        "os.environ[\"GOOGLE_API_KEY\"] = userdata.get(\"GOOGLE_API_KEY\")\n",
        "embeddings = GoogleGenerativeAIEmbeddings(model=\"models/embedding-001\")\n",
        "\n",
        "# Setting up pine_cone model\n",
        "from pinecone import Pinecone, ServerlessSpec\n",
        "pinecone_api_key = userdata.get(\"PINECONE_API_KEY\")\n",
        "\n",
        "pc = Pinecone(api_key=pinecone_api_key)"
      ],
      "metadata": {
        "id": "hEh0kD2Ecvlf"
      },
      "execution_count": 2,
      "outputs": []
    },
    {
      "cell_type": "code",
      "source": [
        "\n",
        "import time\n",
        "\n",
        "index_name = \"rag-ali\" # while runnning it for the first time uncomment the below lines of code\n",
        "# pc.create_index(\n",
        "#         name=index_name,\n",
        "#         dimension=768,  #vector dimension will always be 768 regardless of the input size\n",
        "#         metric=\"cosine\",\n",
        "#         spec=ServerlessSpec(cloud=\"aws\", region=\"us-east-1\"),\n",
        "#     )\n",
        "index = pc.Index(index_name)"
      ],
      "metadata": {
        "id": "hMOikA8acy2N"
      },
      "execution_count": 3,
      "outputs": []
    },
    {
      "cell_type": "code",
      "source": [
        "import os\n",
        "from langchain_google_genai import GoogleGenerativeAIEmbeddings\n",
        "os.environ[\"GOOGLE_API_KEY\"] = userdata.get(\"GOOGLE_API_KEY\")\n",
        "embeddings = GoogleGenerativeAIEmbeddings(model=\"models/embedding-001\")\n",
        "vector = embeddings.embed_query(\"hello world\")\n",
        "print(len(vector))\n",
        "vector[:5]"
      ],
      "metadata": {
        "colab": {
          "base_uri": "https://localhost:8080/"
        },
        "id": "BPErKbScc1tb",
        "outputId": "b9629376-d823-472c-93f1-da1357dfce0e"
      },
      "execution_count": 4,
      "outputs": [
        {
          "output_type": "stream",
          "name": "stdout",
          "text": [
            "768\n"
          ]
        },
        {
          "output_type": "execute_result",
          "data": {
            "text/plain": [
              "[0.04909781739115715,\n",
              " -0.044328317046165466,\n",
              " -0.025365281850099564,\n",
              " -0.030721040442585945,\n",
              " 0.019068587571382523]"
            ]
          },
          "metadata": {},
          "execution_count": 4
        }
      ]
    },
    {
      "cell_type": "code",
      "source": [
        "from langchain_pinecone import PineconeVectorStore\n",
        "\n",
        "vector_store = PineconeVectorStore(index = index , embedding = embeddings)"
      ],
      "metadata": {
        "id": "5oZ2LDLDc40P"
      },
      "execution_count": 5,
      "outputs": []
    },
    {
      "cell_type": "code",
      "source": [
        "%pip install -qq docling docling-core python-dotenv langchain-text-splitters langchain-huggingface langchain-milvus"
      ],
      "metadata": {
        "colab": {
          "base_uri": "https://localhost:8080/"
        },
        "id": "uAlKhZwHc9xf",
        "outputId": "dfa3cf4c-b798-4037-e337-a1efb3238eee"
      },
      "execution_count": 6,
      "outputs": [
        {
          "output_type": "stream",
          "name": "stdout",
          "text": [
            "\u001b[2K     \u001b[90m━━━━━━━━━━━━━━━━━━━━━━━━━━━━━━━━━━━━━━━━\u001b[0m \u001b[32m48.2/48.2 kB\u001b[0m \u001b[31m3.1 MB/s\u001b[0m eta \u001b[36m0:00:00\u001b[0m\n",
            "\u001b[2K   \u001b[90m━━━━━━━━━━━━━━━━━━━━━━━━━━━━━━━━━━━━━━━━\u001b[0m \u001b[32m113.1/113.1 kB\u001b[0m \u001b[31m4.9 MB/s\u001b[0m eta \u001b[36m0:00:00\u001b[0m\n",
            "\u001b[2K   \u001b[90m━━━━━━━━━━━━━━━━━━━━━━━━━━━━━━━━━━━━━━━━\u001b[0m \u001b[32m90.7/90.7 kB\u001b[0m \u001b[31m6.8 MB/s\u001b[0m eta \u001b[36m0:00:00\u001b[0m\n",
            "\u001b[2K   \u001b[90m━━━━━━━━━━━━━━━━━━━━━━━━━━━━━━━━━━━━━━━━\u001b[0m \u001b[32m7.8/7.8 MB\u001b[0m \u001b[31m71.4 MB/s\u001b[0m eta \u001b[36m0:00:00\u001b[0m\n",
            "\u001b[2K   \u001b[90m━━━━━━━━━━━━━━━━━━━━━━━━━━━━━━━━━━━━━━━━\u001b[0m \u001b[32m65.9/65.9 kB\u001b[0m \u001b[31m4.7 MB/s\u001b[0m eta \u001b[36m0:00:00\u001b[0m\n",
            "\u001b[2K   \u001b[90m━━━━━━━━━━━━━━━━━━━━━━━━━━━━━━━━━━━━━━━━\u001b[0m \u001b[32m22.4/22.4 MB\u001b[0m \u001b[31m53.4 MB/s\u001b[0m eta \u001b[36m0:00:00\u001b[0m\n",
            "\u001b[2K   \u001b[90m━━━━━━━━━━━━━━━━━━━━━━━━━━━━━━━━━━━━━━━━\u001b[0m \u001b[32m2.9/2.9 MB\u001b[0m \u001b[31m62.6 MB/s\u001b[0m eta \u001b[36m0:00:00\u001b[0m\n",
            "\u001b[2K   \u001b[90m━━━━━━━━━━━━━━━━━━━━━━━━━━━━━━━━━━━━━━━━\u001b[0m \u001b[32m42.1/42.1 kB\u001b[0m \u001b[31m2.8 MB/s\u001b[0m eta \u001b[36m0:00:00\u001b[0m\n",
            "\u001b[2K   \u001b[90m━━━━━━━━━━━━━━━━━━━━━━━━━━━━━━━━━━━━━━━━\u001b[0m \u001b[32m4.5/4.5 MB\u001b[0m \u001b[31m73.1 MB/s\u001b[0m eta \u001b[36m0:00:00\u001b[0m\n",
            "\u001b[2K   \u001b[90m━━━━━━━━━━━━━━━━━━━━━━━━━━━━━━━━━━━━━━━━\u001b[0m \u001b[32m229.9/229.9 kB\u001b[0m \u001b[31m14.7 MB/s\u001b[0m eta \u001b[36m0:00:00\u001b[0m\n",
            "\u001b[2K   \u001b[90m━━━━━━━━━━━━━━━━━━━━━━━━━━━━━━━━━━━━━━━━\u001b[0m \u001b[32m2.9/2.9 MB\u001b[0m \u001b[31m70.4 MB/s\u001b[0m eta \u001b[36m0:00:00\u001b[0m\n",
            "\u001b[2K   \u001b[90m━━━━━━━━━━━━━━━━━━━━━━━━━━━━━━━━━━━━━━━━\u001b[0m \u001b[32m244.3/244.3 kB\u001b[0m \u001b[31m16.0 MB/s\u001b[0m eta \u001b[36m0:00:00\u001b[0m\n",
            "\u001b[2K   \u001b[90m━━━━━━━━━━━━━━━━━━━━━━━━━━━━━━━━━━━━━━━━\u001b[0m \u001b[32m472.8/472.8 kB\u001b[0m \u001b[31m24.5 MB/s\u001b[0m eta \u001b[36m0:00:00\u001b[0m\n",
            "\u001b[2K   \u001b[90m━━━━━━━━━━━━━━━━━━━━━━━━━━━━━━━━━━━━━━━━\u001b[0m \u001b[32m543.2/543.2 kB\u001b[0m \u001b[31m29.1 MB/s\u001b[0m eta \u001b[36m0:00:00\u001b[0m\n",
            "\u001b[2K   \u001b[90m━━━━━━━━━━━━━━━━━━━━━━━━━━━━━━━━━━━━━━━━\u001b[0m \u001b[32m47.3/47.3 kB\u001b[0m \u001b[31m2.8 MB/s\u001b[0m eta \u001b[36m0:00:00\u001b[0m\n",
            "\u001b[2K   \u001b[90m━━━━━━━━━━━━━━━━━━━━━━━━━━━━━━━━━━━━━━━━\u001b[0m \u001b[32m5.9/5.9 MB\u001b[0m \u001b[31m75.8 MB/s\u001b[0m eta \u001b[36m0:00:00\u001b[0m\n",
            "\u001b[2K   \u001b[90m━━━━━━━━━━━━━━━━━━━━━━━━━━━━━━━━━━━━━━━━\u001b[0m \u001b[32m45.2/45.2 MB\u001b[0m \u001b[31m13.5 MB/s\u001b[0m eta \u001b[36m0:00:00\u001b[0m\n",
            "\u001b[2K   \u001b[90m━━━━━━━━━━━━━━━━━━━━━━━━━━━━━━━━━━━━━━━━\u001b[0m \u001b[32m53.6/53.6 kB\u001b[0m \u001b[31m3.5 MB/s\u001b[0m eta \u001b[36m0:00:00\u001b[0m\n",
            "\u001b[2K   \u001b[90m━━━━━━━━━━━━━━━━━━━━━━━━━━━━━━━━━━━━━━━━\u001b[0m \u001b[32m159.9/159.9 kB\u001b[0m \u001b[31m10.8 MB/s\u001b[0m eta \u001b[36m0:00:00\u001b[0m\n",
            "\u001b[2K   \u001b[90m━━━━━━━━━━━━━━━━━━━━━━━━━━━━━━━━━━━━━━━━\u001b[0m \u001b[32m422.9/422.9 kB\u001b[0m \u001b[31m24.2 MB/s\u001b[0m eta \u001b[36m0:00:00\u001b[0m\n",
            "\u001b[2K   \u001b[90m━━━━━━━━━━━━━━━━━━━━━━━━━━━━━━━━━━━━━━━━\u001b[0m \u001b[32m912.2/912.2 kB\u001b[0m \u001b[31m41.5 MB/s\u001b[0m eta \u001b[36m0:00:00\u001b[0m\n",
            "\u001b[2K   \u001b[90m━━━━━━━━━━━━━━━━━━━━━━━━━━━━━━━━━━━━━━━━\u001b[0m \u001b[32m286.8/286.8 kB\u001b[0m \u001b[31m17.4 MB/s\u001b[0m eta \u001b[36m0:00:00\u001b[0m\n",
            "\u001b[2K   \u001b[90m━━━━━━━━━━━━━━━━━━━━━━━━━━━━━━━━━━━━━━━━\u001b[0m \u001b[32m62.7/62.7 kB\u001b[0m \u001b[31m4.2 MB/s\u001b[0m eta \u001b[36m0:00:00\u001b[0m\n",
            "\u001b[2K   \u001b[90m━━━━━━━━━━━━━━━━━━━━━━━━━━━━━━━━━━━━━━━━\u001b[0m \u001b[32m272.8/272.8 kB\u001b[0m \u001b[31m17.9 MB/s\u001b[0m eta \u001b[36m0:00:00\u001b[0m\n",
            "\u001b[2K   \u001b[90m━━━━━━━━━━━━━━━━━━━━━━━━━━━━━━━━━━━━━━━━\u001b[0m \u001b[32m134.8/134.8 kB\u001b[0m \u001b[31m8.9 MB/s\u001b[0m eta \u001b[36m0:00:00\u001b[0m\n",
            "\u001b[2K   \u001b[90m━━━━━━━━━━━━━━━━━━━━━━━━━━━━━━━━━━━━━━━━\u001b[0m \u001b[32m119.4/119.4 kB\u001b[0m \u001b[31m7.6 MB/s\u001b[0m eta \u001b[36m0:00:00\u001b[0m\n",
            "\u001b[?25h"
          ]
        }
      ]
    },
    {
      "cell_type": "code",
      "source": [
        "%pip install -q langchain requests pypdf langchain-community"
      ],
      "metadata": {
        "id": "8NOpCQ-Pez9y"
      },
      "execution_count": null,
      "outputs": []
    },
    {
      "cell_type": "markdown",
      "source": [
        "the time was short iwas not felling well i downlaod the cv templete pdf online\n"
      ],
      "metadata": {
        "id": "yWHk6meChXlS"
      }
    },
    {
      "cell_type": "code",
      "source": [
        "from langchain.document_loaders import PyPDFLoader\n",
        "import requests\n",
        "\n",
        "url =\"https://raw.githubusercontent.com/aliomershah/pdf-file-cv/main/cv-template.pdf\"  # Updated URL\n",
        "filename = input(\"Enter name for your file : \")\n",
        "\n",
        "response = requests.get(url)\n",
        "\n",
        "with open(filename, 'wb') as f:\n",
        "        f.write(response.content)\n",
        "        print(f\"PDF saved as {filename}\")\n",
        "\n",
        "\n",
        "loader = PyPDFLoader(filename)\n",
        "documents = loader.load()\n",
        "\n",
        "for doc in documents:\n",
        "   print(doc.page_content)"
      ],
      "metadata": {
        "colab": {
          "base_uri": "https://localhost:8080/"
        },
        "id": "pZkd2t8FdOr6",
        "outputId": "bb0f1a58-3aa9-4870-fa38-0a0a7be0bf8e"
      },
      "execution_count": 10,
      "outputs": [
        {
          "output_type": "stream",
          "name": "stdout",
          "text": [
            "Enter name for your file : n\n",
            "PDF saved as n\n",
            "Forename SURNAME \n",
            "e-mail: professional email address tel: UK landline or mobile \n",
            "Education and Qualifications   \n",
            "2000-2003 University/Universities  Degree and Subject  \n",
            " Location; City and Country  applicable additional info\n",
            "   \n",
            "Work Experience \n",
            " \n",
            "Sep-07 – Aug-10 Official Company Name  City, Country \n",
            "Job title  \n",
            " Please use 3-4 bullets maximum to describe your job function & \n",
            "responsibilities  \n",
            " Concentrate on your achievements, and what you have distinctly \n",
            "contributed to in each role, using quantitative examples where possible \n",
            " Examples that may assist you –  \n",
            " “Advised client’s Digital Media division on £3M international expansion, \n",
            "coordinating a team of 8 analysts during initial research phase” \n",
            " “Structured and negotiated equipment deal financing including credit \n",
            "purchases, rentals, and 31 lease contracts worth $745k” \n",
            " \n",
            "Jun-05 – Sep-07 Official Company Name City, Country \n",
            "Job title  \n",
            " Make sure your work experience comes to life, consider what someone \n",
            "reading your CV would be most interested in \n",
            " Avoid any negativity or short comings on your CV that may raise the \n",
            "wrong questions  \n",
            " Try to avoid having your CV read like a job description \n",
            "  \n",
            "Mar-04 – Jun-05 Official Company Name City, Country \n",
            "Job title \n",
            " Try to ensure your CV is easy to scan, start bullet points with relevant \n",
            "action verbs \n",
            " You can also include significant relevant voluntary experience in your \n",
            "work experience if it is applicable  \n",
            " Try to avoid industry jargon that may not be understood  \n",
            " \n",
            "Aug-03 – Mar-04 Official Company Name City, Country  \n",
            "Job title \n",
            " Use past tense for roles you have completed \n",
            " Please set dates using the abbreviated month and two digits for the year, \n",
            "you must include months as well as years  \n",
            " Make sure your CV is an accurate reflection of you and what you want to \n",
            "highlight about your experience  \n",
            " Stick to facts you can easily discuss. Avoid subjective comments \n",
            "  \n",
            "Additional Information \n",
            " \n",
            "Interests: Concentrate on activities you participate in and are willing to talk about. You \n",
            "should highlight achievements in those activities. Eg. rather than just listing \n",
            "‘running’ say ‘running – participated in several marathons, President of the \n",
            "Oxford Runners Club’ \n",
            " \n",
            "Achievements: List academic or other achievements here, for example  \n",
            " First Class Honours, Previous University  \n",
            " Study abroad scholarship (selected 3 out of 600 students) \n",
            "   Principal Cellist of London Youth Orchestra \n",
            "  \n",
            "Nationality: your nationality, dual nationality, and any additional work authorization if \n",
            "applicable \n",
            "Languages:  languages other than English and ability level eg. German (fluent) \n"
          ]
        }
      ]
    },
    {
      "cell_type": "code",
      "source": [
        "from langchain_core.documents import Document as LCDocument\n",
        "from docling.document_converter import DocumentConverter\n",
        "from uuid import uuid4\n",
        "\n",
        "\n",
        "FILE_PATH = f\"/content/{filename}\"\n",
        "dl_doc=DocumentConverter().convert(FILE_PATH).document\n",
        "text = dl_doc.export_to_markdown()  #print the text in the following line to check the working\n",
        "# print(text)\n",
        "\n",
        "doc = [LCDocument(page_content=text, metadata={\"source\": FILE_PATH})]\n",
        "\n",
        "vector1 = embeddings.embed_query(text)\n",
        "id = [str(uuid4())]\n",
        "\n",
        "vector_store.add_documents(documents=doc, ids=id)"
      ],
      "metadata": {
        "colab": {
          "base_uri": "https://localhost:8080/"
        },
        "id": "NZdUxhF9dSuv",
        "outputId": "151ac6f8-1aed-486a-96ae-3c67da0c20cb"
      },
      "execution_count": 11,
      "outputs": [
        {
          "output_type": "stream",
          "name": "stderr",
          "text": [
            "/usr/local/lib/python3.10/dist-packages/huggingface_hub/utils/_auth.py:94: UserWarning: \n",
            "The secret `HF_TOKEN` does not exist in your Colab secrets.\n",
            "To authenticate with the Hugging Face Hub, create a token in your settings tab (https://huggingface.co/settings/tokens), set it as secret in your Google Colab and restart your session.\n",
            "You will be able to reuse this secret in all of your notebooks.\n",
            "Please note that authentication is recommended but still optional to access public models or datasets.\n",
            "  warnings.warn(\n",
            "WARNING:easyocr.easyocr:Downloading detection model, please wait. This may take several minutes depending upon your network connection.\n",
            "WARNING:easyocr.easyocr:Downloading recognition model, please wait. This may take several minutes depending upon your network connection.\n"
          ]
        },
        {
          "output_type": "execute_result",
          "data": {
            "text/plain": [
              "['726278d0-f810-4e47-990d-65737e7a1f52']"
            ]
          },
          "metadata": {},
          "execution_count": 11
        }
      ]
    },
    {
      "cell_type": "code",
      "source": [
        "from langchain_google_genai import ChatGoogleGenerativeAI\n",
        "llm  = ChatGoogleGenerativeAI(\n",
        "    model = \"gemini-2.0-flash-exp\"\n",
        ")\n",
        "\n",
        "def answer_to_user(query :str):\n",
        "  vector_results = vector_store.similarity_search_with_score(query, k=2)\n",
        "\n",
        "  final_answer = llm.invoke(f\"Answer this user query :{query}, Here are some reference to the answer {vector_results}, add from this {vector_results} as well.\")\n",
        "  return final_answer\n",
        "\n",
        "\n",
        "answer = answer_to_user(\"tell me about education \")\n",
        "answer.content"
      ],
      "metadata": {
        "colab": {
          "base_uri": "https://localhost:8080/",
          "height": 123
        },
        "id": "aTKL2ZukddEd",
        "outputId": "486ffb5a-8a0c-44c7-bab4-af8b018af428"
      },
      "execution_count": 14,
      "outputs": [
        {
          "output_type": "execute_result",
          "data": {
            "text/plain": [
              "'Based on the provided documents, here\\'s information about education, primarily in the context of a CV:\\n\\n**Key Aspects of Education on a CV:**\\n\\n*   **Formal Education:** This includes your university or universities attended.\\n    *   **Dates:**  Include the years you attended, for example, \"2000 - 2003.\"\\n    *   **Institution:** List the name of the University/Universities.\\n    *   **Location:** Specify the city and country where the institution is located.\\n    *   **Degree and Subject:** State the degree you obtained and your major or subject of study. Also include any additional relevant information about your degree.\\n\\n*   **Additional Information:**\\n    *   **Achievements:** Include academic achievements such as First Class Honours, scholarships (like \"Previous University Study abroad scholarship (selected 3 out of 600 students)\"), and other significant accomplishments (e.g., \"Principal Cellist of London Youth Orchestra\").\\n\\n**General CV Advice Related to Education:**\\n\\n*   **Accuracy:** Make sure your CV is an accurate reflection of your educational background.\\n*   **Facts:** Stick to facts that you can easily discuss. Avoid subjective comments.\\n*   **Highlight Relevant Information:** Focus on what you want to emphasize about your education.\\n*   **Avoid Negativity:** Do not include shortcomings or anything negative that might raise the wrong questions about your education.\\n\\n**In Summary:**\\n\\nThe documents emphasize that when presenting your education on a CV, be clear, concise, and focus on key details such as the institutions you attended, the degrees you earned, and any notable academic achievements. The goal is to highlight your educational background in a way that is both accurate and impressive to a potential employer.\\n'"
            ],
            "application/vnd.google.colaboratory.intrinsic+json": {
              "type": "string"
            }
          },
          "metadata": {},
          "execution_count": 14
        }
      ]
    },
    {
      "cell_type": "code",
      "source": [
        "from langchain_core.runnables import RunnablePassthrough\n",
        "from langchain_core.prompts import ChatPromptTemplate\n",
        "from IPython.display import Markdown\n",
        "\n",
        "\n",
        "\n",
        "retriever = vector_store.as_retriever()\n",
        "\n",
        "\n",
        "llm = ChatGoogleGenerativeAI(model=\"gemini-2.0-flash-exp\")\n",
        "\n",
        "\n",
        "template = \"\"\"Answer this user query: {question}\n",
        "Here's some information that might be helpful: {context}\"\"\"\n",
        "prompt_template = ChatPromptTemplate.from_template(template)\n",
        "\n",
        "rag_chain = (\n",
        "    {\"context\": retriever, \"question\": RunnablePassthrough()}\n",
        "    | prompt_template\n",
        "    | llm\n",
        "    | StrOutputParser()\n",
        ")\n",
        "\n",
        "\n",
        "query = \"Tell me about education\"\n",
        "display(Markdown(rag_chain.invoke(query)))"
      ],
      "metadata": {
        "colab": {
          "base_uri": "https://localhost:8080/",
          "height": 186
        },
        "id": "zd5JIu4jdfXl",
        "outputId": "5a45d695-8f7d-4d9f-f4b2-e8ce23ce2772"
      },
      "execution_count": 16,
      "outputs": [
        {
          "output_type": "display_data",
          "data": {
            "text/plain": [
              "<IPython.core.display.Markdown object>"
            ],
            "text/markdown": "Based on the provided document, here's what I can tell you about education:\n\nThe document primarily focuses on how to present your education on a CV. It suggests including the following:\n\n*   **University/Universities:** List the names of the universities you attended.\n*   **Location:** Specify the city and country where the university is located.\n*   **Degree and Subject:** Clearly state the degree you obtained and your major.\n*   **Additional Information:** Include any relevant details about your education, such as honors or specializations.\n*   **Dates:** Provide the years you attended the university (e.g., 2000 - 2003).\n\nIn essence, the document stresses the importance of clearly and concisely presenting your educational background on your CV.\n"
          },
          "metadata": {}
        }
      ]
    }
  ]
}